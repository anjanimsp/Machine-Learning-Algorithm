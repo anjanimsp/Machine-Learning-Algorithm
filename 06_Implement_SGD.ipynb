{
  "nbformat": 4,
  "nbformat_minor": 0,
  "metadata": {
    "colab": {
      "name": "06 Implement SGD.ipynb",
      "version": "0.3.2",
      "provenance": [],
      "collapsed_sections": []
    },
    "kernelspec": {
      "name": "python3",
      "display_name": "Python 3"
    }
  },
  "cells": [
    {
      "cell_type": "code",
      "metadata": {
        "id": "REYPoTJ1Af7u",
        "colab_type": "code",
        "colab": {}
      },
      "source": [
        "import warnings\n",
        "warnings.filterwarnings(\"ignore\")\n",
        "from sklearn.datasets import load_boston\n",
        "from random import seed\n",
        "from random import randrange\n",
        "from csv import reader\n",
        "from math import sqrt\n",
        "from sklearn import preprocessing\n",
        "import pandas as pd\n",
        "import numpy as np\n",
        "import matplotlib.pyplot as plt\n",
        "from prettytable import PrettyTable\n",
        "from sklearn.linear_model import SGDRegressor\n",
        "from sklearn import preprocessing\n",
        "from sklearn.metrics import mean_squared_error\n",
        "from sklearn.linear_model import LinearRegression"
      ],
      "execution_count": 0,
      "outputs": []
    },
    {
      "cell_type": "code",
      "metadata": {
        "id": "NTQ2iH-kAwbo",
        "colab_type": "code",
        "colab": {}
      },
      "source": [
        "X = load_boston().data\n",
        "Y = load_boston().target"
      ],
      "execution_count": 0,
      "outputs": []
    },
    {
      "cell_type": "code",
      "metadata": {
        "id": "FgUW39s6Be0U",
        "colab_type": "code",
        "colab": {}
      },
      "source": [
        "scaler = preprocessing.StandardScaler().fit(X)\n",
        "X = scaler.transform(X)"
      ],
      "execution_count": 0,
      "outputs": []
    },
    {
      "cell_type": "code",
      "metadata": {
        "id": "HNu1sXtEBBS2",
        "colab_type": "code",
        "outputId": "86550aa2-ef24-4f93-bfa0-301e1f625c57",
        "colab": {
          "base_uri": "https://localhost:8080/",
          "height": 34
        }
      },
      "source": [
        "clf = SGDRegressor()\n",
        "clf.fit(X, Y)\n",
        "print(mean_squared_error(Y, clf.predict(X)))"
      ],
      "execution_count": 4,
      "outputs": [
        {
          "output_type": "stream",
          "text": [
            "21.963776602173308\n"
          ],
          "name": "stdout"
        }
      ]
    },
    {
      "cell_type": "code",
      "metadata": {
        "id": "yxq7BdZXqNRA",
        "colab_type": "code",
        "outputId": "d5c54624-8003-4ec6-eaca-2de48a3d9f28",
        "colab": {
          "base_uri": "https://localhost:8080/",
          "height": 52
        }
      },
      "source": [
        "#Printing Shape of Data\n",
        "print(X.shape)\n",
        "print(Y.shape)\n",
        " \n",
        "\n"
      ],
      "execution_count": 5,
      "outputs": [
        {
          "output_type": "stream",
          "text": [
            "(506, 13)\n",
            "(506,)\n"
          ],
          "name": "stdout"
        }
      ]
    },
    {
      "cell_type": "markdown",
      "metadata": {
        "id": "KP22fZvdmNWx",
        "colab_type": "text"
      },
      "source": [
        "### Splitting data into train and Test"
      ]
    },
    {
      "cell_type": "code",
      "metadata": {
        "id": "2VU3mc4emSAi",
        "colab_type": "code",
        "colab": {}
      },
      "source": [
        "from sklearn.model_selection import train_test_split\n",
        "xTrain, xTest, yTrain, yTest = train_test_split(X, Y, test_size = 1/3, random_state = 0)"
      ],
      "execution_count": 0,
      "outputs": []
    },
    {
      "cell_type": "code",
      "metadata": {
        "id": "wwIisbpzQCTD",
        "colab_type": "code",
        "colab": {}
      },
      "source": [
        "def mse(ytest,ypred):\n",
        "  sum_error = 0\n",
        "  for i in range(len(ytest)):\n",
        "       sum_error += (ytest[i] - ypred[i]) ** 2\n",
        "        \n",
        "  sum_error /= len(ytest)\n",
        "  return sum_error\n"
      ],
      "execution_count": 0,
      "outputs": []
    },
    {
      "cell_type": "code",
      "metadata": {
        "id": "3o02eDb9hjnp",
        "colab_type": "code",
        "colab": {}
      },
      "source": [
        "def predict(x,m_slope,b_intercept):\n",
        "  return np.dot(x,m_slope)+b_intercept"
      ],
      "execution_count": 0,
      "outputs": []
    },
    {
      "cell_type": "markdown",
      "metadata": {
        "id": "w6KeNRy4Y8D9",
        "colab_type": "text"
      },
      "source": [
        "### stochastic gradient descent"
      ]
    },
    {
      "cell_type": "code",
      "metadata": {
        "id": "cUKpj9gj0WpB",
        "colab_type": "code",
        "colab": {}
      },
      "source": [
        "#https://gist.github.com/samueljackson92/8148506\n",
        "import numpy as np\n",
        "import pandas as pd\n",
        "from sklearn.linear_model import LinearRegression\n",
        "import math\n",
        "\n",
        "cost_=[]\n",
        "mse_train=[]\n",
        "mse_test=[]\n",
        "def SGD(x,y):\n",
        "    '''\n",
        "      This function stochastic gradient descent which return coefficient and intercept.\n",
        "    \n",
        "    '''\n",
        "    iter=5000   # here we define variable named as iter for number of iteration\n",
        "    learning_rate=0.1 #her we define learning_rate value\n",
        "    cost_previous = 0 \n",
        "    batch_size=50 # here in which we define number of batch size\n",
        "    x_trans=x.T # here we tranponse the X(features)\n",
        "    dimension,features=np.shape(x) # here we storing dimension and features in variable\n",
        "    m_curr=np.ones(features) # here create number of zeroes in m_curr which is slope\n",
        "    b_curr=0 \n",
        "    \n",
        "    \n",
        "    for i in range(iter+1):\n",
        "        idx=np.random.choice(len(x),batch_size,replace=False) # here we create idx variable which return random number of index of batch size\n",
        "           \n",
        "        #print(idx)\n",
        "        y_predicted=np.dot(x[idx],m_curr)+b_curr # here we finding (y=w.T*X+b)\n",
        "        \n",
        "        #difference between actaul and pedicted values\n",
        "        diff=y_predicted-y[idx]\n",
        "       \n",
        "        #finding cost function\n",
        "        cost=np.sum(diff**2)/(2*dimension)\n",
        "        cost_.append(cost)\n",
        "        #findind coefficient\n",
        "        gradient=np.dot(x_trans[:,idx],diff)/dimension\n",
        "        \n",
        "        #finding intercept\n",
        "        bd = np.sum(diff)/dimension\n",
        "        \n",
        "        #updating the coefficient\n",
        "        m_curr = m_curr - learning_rate *gradient\n",
        "        #updating the intercept \n",
        "        b_curr = b_curr - learning_rate *bd\n",
        "        \n",
        "        \n",
        "        mse_train.append(mse(yTrain,predict(xTrain,m_curr, b_curr)))\n",
        "        mse_test.append(mse(yTest,predict(xTest,m_curr, b_curr)))\n",
        "        \n",
        "        #here we use match function to compare the cost\n",
        "        if math.isclose(cost, cost_previous, rel_tol=1e-30):\n",
        "            break\n",
        "        cost_previous = cost\n",
        "    #returing the coeffcint and intercept  \n",
        "    \n",
        "    return m_curr, b_curr,cost\n",
        "\n",
        "\n"
      ],
      "execution_count": 0,
      "outputs": []
    },
    {
      "cell_type": "code",
      "metadata": {
        "id": "ig1NN5A9IQD9",
        "colab_type": "code",
        "colab": {}
      },
      "source": [
        "m_slope,b_intercept,cost=SGD(X,Y)"
      ],
      "execution_count": 0,
      "outputs": []
    },
    {
      "cell_type": "code",
      "metadata": {
        "id": "iaCVdBZBnwoE",
        "colab_type": "code",
        "outputId": "c0c0d71f-5a6f-4480-ce8f-240c0709485f",
        "colab": {
          "base_uri": "https://localhost:8080/",
          "height": 69
        }
      },
      "source": [
        "m_slope"
      ],
      "execution_count": 25,
      "outputs": [
        {
          "output_type": "execute_result",
          "data": {
            "text/plain": [
              "array([-0.85602203,  1.08523546,  0.08616195,  0.75789099, -2.01023193,\n",
              "        2.61602856, -0.02856393, -3.15635658,  2.56454747, -2.0087431 ,\n",
              "       -2.08479633,  0.79489218, -3.81064031])"
            ]
          },
          "metadata": {
            "tags": []
          },
          "execution_count": 25
        }
      ]
    },
    {
      "cell_type": "code",
      "metadata": {
        "id": "ERAQ-p-xnzDw",
        "colab_type": "code",
        "outputId": "e8c2fd5b-5b07-49ff-d196-079b6dc81cc2",
        "colab": {
          "base_uri": "https://localhost:8080/",
          "height": 34
        }
      },
      "source": [
        "b_intercept"
      ],
      "execution_count": 31,
      "outputs": [
        {
          "output_type": "execute_result",
          "data": {
            "text/plain": [
              "22.554799446311126"
            ]
          },
          "metadata": {
            "tags": []
          },
          "execution_count": 31
        }
      ]
    },
    {
      "cell_type": "code",
      "metadata": {
        "id": "GeH8qBbRUGyO",
        "colab_type": "code",
        "colab": {}
      },
      "source": [
        "def predict(x):\n",
        "  return np.dot(x,m_slope)+b_intercept"
      ],
      "execution_count": 0,
      "outputs": []
    },
    {
      "cell_type": "markdown",
      "metadata": {
        "id": "blA3dUKlSPek",
        "colab_type": "text"
      },
      "source": [
        "#### Plot of  Cost vs Number of iterations "
      ]
    },
    {
      "cell_type": "code",
      "metadata": {
        "id": "jSKIMlpBKRdV",
        "colab_type": "code",
        "outputId": "7258d1f1-f244-460a-e5b7-4138712a53c9",
        "colab": {
          "base_uri": "https://localhost:8080/",
          "height": 295
        }
      },
      "source": [
        "%matplotlib inline\n",
        "\n",
        "plt.plot(cost_)\n",
        "plt.xlabel(\"No of iteration\")\n",
        "plt.ylabel(\"Cost\")\n",
        "plt.title(\"Plot between cost and iteration\")\n",
        "plt.grid()\n",
        "\n",
        "plt.show()"
      ],
      "execution_count": 37,
      "outputs": [
        {
          "output_type": "display_data",
          "data": {
            "image/png": "[encoded data removed]",
            "text/plain": [
              "<Figure size 432x288 with 1 Axes>"
            ]
          },
          "metadata": {
            "tags": []
          }
        }
      ]
    },
    {
      "cell_type": "markdown",
      "metadata": {
        "id": "n2a0Ewy9NjSR",
        "colab_type": "text"
      },
      "source": [
        "###  Plot MSE vs Number of iterations in order to check if the model is overfitting or not."
      ]
    },
    {
      "cell_type": "markdown",
      "metadata": {
        "id": "mEATb8wUXQqb",
        "colab_type": "text"
      },
      "source": [
        "### Train MSE"
      ]
    },
    {
      "cell_type": "code",
      "metadata": {
        "id": "2Ew2rc4-hgUd",
        "colab_type": "code",
        "outputId": "48b60cb2-1b5d-4df5-ecfb-669bab3be359",
        "colab": {
          "base_uri": "https://localhost:8080/",
          "height": 295
        }
      },
      "source": [
        "%matplotlib inline\n",
        "\n",
        "plt.plot(mse_test)\n",
        "\n",
        "plt.xlabel(\"No of iteration\")\n",
        "plt.ylabel(\"MSE\")\n",
        "plt.title(\"MSE vs no of iteration\")\n",
        "plt.grid()\n",
        "\n",
        "plt.show()"
      ],
      "execution_count": 46,
      "outputs": [
        {
          "output_type": "display_data",
          "data": {
            "image/png": "[encoded data removed]",
            "text/plain": [
              "<Figure size 432x288 with 1 Axes>"
            ]
          },
          "metadata": {
            "tags": []
          }
        }
      ]
    },
    {
      "cell_type": "markdown",
      "metadata": {
        "id": "fdVXr40TXS56",
        "colab_type": "text"
      },
      "source": [
        "### Test MSE"
      ]
    },
    {
      "cell_type": "code",
      "metadata": {
        "id": "rjzXEfv_mOQB",
        "colab_type": "code",
        "outputId": "39243e0f-0348-4c67-ebaa-374155faf875",
        "colab": {
          "base_uri": "https://localhost:8080/",
          "height": 295
        }
      },
      "source": [
        "%matplotlib inline\n",
        "\n",
        "plt.plot(mse_train,label='train')\n",
        "plt.xlabel(\"No of iteration\")\n",
        "plt.ylabel(\"MSE\")\n",
        "plt.title(\"MSE vs no of iteration\")\n",
        "plt.grid()\n",
        "plt.show()"
      ],
      "execution_count": 45,
      "outputs": [
        {
          "output_type": "display_data",
          "data": {
            "image/png": "[encoded data removed]",
            "text/plain": [
              "<Figure size 432x288 with 1 Axes>"
            ]
          },
          "metadata": {
            "tags": []
          }
        }
      ]
    },
    {
      "cell_type": "markdown",
      "metadata": {
        "id": "a1HdjhmdUQvw",
        "colab_type": "text"
      },
      "source": [
        "####  Plot a chart of predicted values Vs actual values of your own SGD Implementation"
      ]
    },
    {
      "cell_type": "code",
      "metadata": {
        "id": "2l2MrborN4jF",
        "colab_type": "code",
        "outputId": "ee886541-64d4-4fb2-9192-8b07e19b89b5",
        "colab": {
          "base_uri": "https://localhost:8080/",
          "height": 295
        }
      },
      "source": [
        "#Plot between actual vs predicted using SGD sklearn library of Train data\n",
        "plt.scatter(yTrain,predict(xTrain),label='Train')\n",
        "plt.scatter(yTest,predict(xTest),label='Test')\n",
        "plt.xlabel(\"Actual Price\")\n",
        "plt.ylabel('Predicted Price')\n",
        "plt.title('Plot between actal vs predicted')\n",
        "plt.legend()\n",
        "plt.show()"
      ],
      "execution_count": 56,
      "outputs": [
        {
          "output_type": "display_data",
          "data": {
            "image/png": "[encoded data removed]",
            "text/plain": [
              "<Figure size 432x288 with 1 Axes>"
            ]
          },
          "metadata": {
            "tags": []
          }
        }
      ]
    },
    {
      "cell_type": "markdown",
      "metadata": {
        "id": "ghj36rt0VX39",
        "colab_type": "text"
      },
      "source": [
        "#### Now try out the SGDRegresser of sklearn and plot the chart of predicted values Vs actual values"
      ]
    },
    {
      "cell_type": "code",
      "metadata": {
        "id": "SfH06n1IdYA4",
        "colab_type": "code",
        "outputId": "49df4ac6-2296-414e-b337-8628b8d61478",
        "colab": {
          "base_uri": "https://localhost:8080/",
          "height": 295
        }
      },
      "source": [
        "#Plot between actual vs predicted using  SGD  library of Test data\n",
        "plt.scatter(yTrain,clf.predict(xTrain),label='Train')\n",
        "plt.scatter(yTest,clf.predict(xTest),label=\"Test\")\n",
        "plt.xlabel(\"Actual Price\")\n",
        "plt.xlabel(\"Actual Price\")\n",
        "plt.ylabel('Predicted Price')\n",
        "plt.title('Plot between actal vs predicted')\n",
        "plt.show()"
      ],
      "execution_count": 63,
      "outputs": [
        {
          "output_type": "display_data",
          "data": {
            "image/png": "[encoded data removed]",
            "text/plain": [
              "<Figure size 432x288 with 1 Axes>"
            ]
          },
          "metadata": {
            "tags": []
          }
        }
      ]
    },
    {
      "cell_type": "markdown",
      "metadata": {
        "id": "GiVdBGGAWDFX",
        "colab_type": "text"
      },
      "source": [
        "####   In a tabular format, compare the weights obtained from your own implementation with the weights obtained after applying sklearn's SGDRegresser."
      ]
    },
    {
      "cell_type": "code",
      "metadata": {
        "id": "uy9VwMhSUFip",
        "colab_type": "code",
        "colab": {
          "base_uri": "https://localhost:8080/",
          "height": 176
        },
        "outputId": "8d371eb9-a145-4c19-b419-9e52b4c085a5"
      },
      "source": [
        "# http://zetcode.com/python/prettytable/\n",
        "from prettytable import PrettyTable\n",
        "\n",
        "#If you get a ModuleNotFoundError error , install prettytable using: pip3 install prettytable\n",
        "\n",
        "x = PrettyTable()\n",
        "print(\"SGDRegresser\")\n",
        "x.field_names = [\"Weight of Custom SGD Function\", \"Weight of Sklern SGD Reg\"]\n",
        "x.add_row([(m_slope),(clf.coef_)])\n",
        "\n",
        "\n",
        "print(x)"
      ],
      "execution_count": 79,
      "outputs": [
        {
          "output_type": "stream",
          "text": [
            "SGDRegresser\n",
            "+--------------------------------------------------------------------------+--------------------------------------------------------------------------+\n",
            "|                      Weight of Custom SGD Function                       |                         Weight of Sklern SGD Reg                         |\n",
            "+--------------------------------------------------------------------------+--------------------------------------------------------------------------+\n",
            "| [-0.89466272  1.07843128  0.10301994  0.70489956 -2.08607961  2.64928463 | [-0.86517887  0.97943951 -0.07546839  0.69504415 -1.95177153  2.70473415 |\n",
            "|  -0.0350521  -3.03663337  2.54809359 -1.99933763 -2.07048419  0.8304194  |  -0.01187268 -3.07515148  2.09732622 -1.41988431 -2.01229951  0.82789557 |\n",
            "|                               -3.67209778]                               |                               -3.69725482]                               |\n",
            "+--------------------------------------------------------------------------+--------------------------------------------------------------------------+\n"
          ],
          "name": "stdout"
        }
      ]
    },
    {
      "cell_type": "code",
      "metadata": {
        "id": "8GAb_3NcWuGB",
        "colab_type": "code",
        "colab": {
          "base_uri": "https://localhost:8080/",
          "height": 121
        },
        "outputId": "331683cf-0e63-4dab-c1bb-a880c9184ff9"
      },
      "source": [
        "# http://zetcode.com/python/prettytable/\n",
        "from prettytable import PrettyTable\n",
        "\n",
        "#If you get a ModuleNotFoundError error , install prettytable using: pip3 install prettytable\n",
        "\n",
        "x = PrettyTable()\n",
        "print(\"SGDRegresser\")\n",
        "x.field_names = [\"MSE(Train) Sklearn\", \"MSE(Test)sklearn\",'MSE(Train)Custom Fun','MSE(Test)Custom Fun']\n",
        "x.add_row([(mean_squared_error(yTrain, clf.predict(xTrain))),(mean_squared_error(yTest, clf.predict(xTest))),mse(yTrain,predict(xTrain)),mse(yTest,predict(xTest))])\n",
        "\n",
        "\n",
        "print(x)"
      ],
      "execution_count": 80,
      "outputs": [
        {
          "output_type": "stream",
          "text": [
            "SGDRegresser\n",
            "+--------------------+--------------------+----------------------+---------------------+\n",
            "| MSE(Train) Sklearn |  MSE(Test)sklearn  | MSE(Train)Custom Fun | MSE(Test)Custom Fun |\n",
            "+--------------------+--------------------+----------------------+---------------------+\n",
            "| 20.407412767436828 | 25.067295018186293 |  20.290961699069573  |  25.15623565111691  |\n",
            "+--------------------+--------------------+----------------------+---------------------+\n"
          ],
          "name": "stdout"
        }
      ]
    },
    {
      "cell_type": "code",
      "metadata": {
        "id": "u0ZUFrbFW_gJ",
        "colab_type": "code",
        "colab": {}
      },
      "source": [
        ""
      ],
      "execution_count": 0,
      "outputs": []
    }
  ]
}